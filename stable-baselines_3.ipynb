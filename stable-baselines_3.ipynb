{
 "cells": [
  {
   "cell_type": "code",
   "execution_count": 1,
   "id": "3d3530af",
   "metadata": {
    "scrolled": true
   },
   "outputs": [
    {
     "name": "stderr",
     "output_type": "stream",
     "text": [
      "2024-05-03 10:25:34.893894: I tensorflow/core/platform/cpu_feature_guard.cc:193] This TensorFlow binary is optimized with oneAPI Deep Neural Network Library (oneDNN) to use the following CPU instructions in performance-critical operations:  AVX2 AVX_VNNI FMA\n",
      "To enable them in other operations, rebuild TensorFlow with the appropriate compiler flags.\n",
      "2024-05-03 10:25:34.991657: I tensorflow/core/util/port.cc:104] oneDNN custom operations are on. You may see slightly different numerical results due to floating-point round-off errors from different computation orders. To turn them off, set the environment variable `TF_ENABLE_ONEDNN_OPTS=0`.\n",
      "2024-05-03 10:25:35.274753: W tensorflow/compiler/xla/stream_executor/platform/default/dso_loader.cc:64] Could not load dynamic library 'libnvinfer.so.7'; dlerror: libnvinfer.so.7: cannot open shared object file: No such file or directory; LD_LIBRARY_PATH: /home/gp-coopperc/anaconda3/envs/Tensor/lib/python3.9/site-packages/cv2/../../lib64:/usr/local/cuda-11.3/lib64::/home/gp-coopperc/anaconda3/envs/carla-sim/lib/\n",
      "2024-05-03 10:25:35.274792: W tensorflow/compiler/xla/stream_executor/platform/default/dso_loader.cc:64] Could not load dynamic library 'libnvinfer_plugin.so.7'; dlerror: libnvinfer_plugin.so.7: cannot open shared object file: No such file or directory; LD_LIBRARY_PATH: /home/gp-coopperc/anaconda3/envs/Tensor/lib/python3.9/site-packages/cv2/../../lib64:/usr/local/cuda-11.3/lib64::/home/gp-coopperc/anaconda3/envs/carla-sim/lib/\n",
      "2024-05-03 10:25:35.274795: W tensorflow/compiler/tf2tensorrt/utils/py_utils.cc:38] TF-TRT Warning: Cannot dlopen some TensorRT libraries. If you would like to use Nvidia GPU with TensorRT, please make sure the missing libraries mentioned above are installed properly.\n"
     ]
    }
   ],
   "source": [
    "import random\n",
    "import time\n",
    "import numpy as np\n",
    "import math \n",
    "import cv2\n",
    "import gymnasium as gym\n",
    "from gymnasium import spaces\n",
    "import carla\n",
    "from stable_baselines3.common.env_checker import check_env"
   ]
  },
  {
   "cell_type": "code",
   "execution_count": 2,
   "id": "768ac896",
   "metadata": {},
   "outputs": [],
   "source": [
    "SECONDS_PER_EPISODE = 15\n",
    "\n",
    "N_CHANNELS = 3\n",
    "HEIGHT = 240\n",
    "WIDTH = 320\n",
    "\n",
    "SPIN = 10 #angle of random spin\n",
    "\n",
    "HEIGHT_REQUIRED_PORTION = 0.5 #bottom share, e.g. 0.1 is take lowest 10% of rows\n",
    "WIDTH_REQUIRED_PORTION = 0.9\n",
    "\n",
    "\n",
    "SHOW_PREVIEW = True"
   ]
  },
  {
   "cell_type": "code",
   "execution_count": 3,
   "id": "cf6e332c",
   "metadata": {},
   "outputs": [],
   "source": [
    "class CarEnv(gym.Env):\n",
    "    SHOW_CAM = SHOW_PREVIEW\n",
    "    STEER_AMT = 1.0\n",
    "    im_width = WIDTH\n",
    "    im_height = HEIGHT\n",
    "    front_camera = None\n",
    "    CAMERA_POS_Z = 1.3 \n",
    "    CAMERA_POS_X = 1.4\n",
    "    #spped constants\n",
    "    PREFERRED_SPEED = 80\n",
    "    SPEED_THRESHOLD = 2 \n",
    "    \n",
    "    def __init__(self):\n",
    "        super(CarEnv, self).__init__()\n",
    "        \n",
    "        self.action_space = spaces.Discrete(9)\n",
    "        \n",
    "        # for cropping images\n",
    "        self.height_from = int(HEIGHT * (1 -HEIGHT_REQUIRED_PORTION))\n",
    "        self.width_from = int((WIDTH - WIDTH * WIDTH_REQUIRED_PORTION) / 2)\n",
    "        self.width_to = self.width_from + int(WIDTH_REQUIRED_PORTION * WIDTH)\n",
    "        self.new_height = HEIGHT - self.height_from\n",
    "        self.new_width = self.width_to - self.width_from\n",
    "        #self.image_for_CNN = None\n",
    "\n",
    "        self.observation_space = spaces.Box(low=0.0, high=1.0,\n",
    "                                            shape=(7, 18, 8), dtype=np.float32)\n",
    "        \n",
    "        self.client = carla.Client(\"localhost\", 2000)\n",
    "        self.client.set_timeout(4.0)\n",
    "        self.world = self.client.get_world()\n",
    "        #self.client.load_world('Town04')\n",
    "        self.settings = self.world.get_settings()\n",
    "        self.settings.no_rendering_mode = not self.SHOW_CAM\n",
    "        self.world.apply_settings(self.settings)\n",
    "\n",
    "        self.blueprint_library = self.world.get_blueprint_library()\n",
    "        self.model_3 = self.blueprint_library.filter(\"model3\")[0]\n",
    "        self.cnn_model = load_model('/home/gp-coopperc/CARLA_TEST/carla-sim/model_saved_from_CNN.h5',compile=False)\n",
    "        self.cnn_model.compile()\n",
    "        if self.SHOW_CAM:\n",
    "            self.spectator = self.world.get_spectator()\n",
    "            \n",
    "    def cleanup(self):\n",
    "        \n",
    "        for sensor in self.world.get_actors().filter('*sensor*'):\n",
    "            sensor.destroy()\n",
    "        for actor in self.world.get_actors().filter('*vehicle*'):\n",
    "            actor.destroy()\n",
    "        cv2.destroyAllWindows()\n",
    "\n",
    "    def maintain_speed(self,s):\n",
    "        ''' \n",
    "        this is a very simple function to maintan desired speed\n",
    "        s arg is actual current speed\n",
    "        '''\n",
    "        if s >= self.PREFERRED_SPEED:\n",
    "            return 0\n",
    "        elif s < self.PREFERRED_SPEED - self.SPEED_THRESHOLD:\n",
    "            return 0.7 # think of it as % of \"full gas\"\n",
    "        else:\n",
    "            return 0.3 # tweak this if the car is way over or under preferred speed \n",
    "\n",
    "    def apply_cnn(self,im):\n",
    "        \n",
    "        img = np.float32(im)\n",
    "        img = img /255\n",
    "        img = np.expand_dims(img, axis=0)\n",
    "        cnn_applied = self.cnn_model([img,0],training=False)\n",
    "        cnn_applied = np.squeeze(cnn_applied)\n",
    "        return  cnn_applied ##[0][0]\n",
    "    \n",
    "    def step(self, action):\n",
    "        \n",
    "        trans = self.vehicle.get_transform()\n",
    "        if self.SHOW_CAM:\n",
    "            self.spectator.set_transform(carla.Transform(trans.location + carla.Location(z=20),carla.Rotation(yaw =-180, pitch=-90)))\n",
    "\n",
    "        self.step_counter +=1\n",
    "        steer = action\n",
    "\n",
    "        # map steering actions\n",
    "        if steer ==0:\n",
    "            steer = - 0.9\n",
    "        elif steer ==1:\n",
    "            steer = -0.25\n",
    "        elif steer ==2:\n",
    "            steer = -0.1\n",
    "        elif steer ==3:\n",
    "            steer = -0.05\n",
    "        elif steer ==4:\n",
    "            steer = 0.0 \n",
    "        elif steer ==5:\n",
    "            steer = 0.05\n",
    "        elif steer ==6:\n",
    "            steer = 0.1\n",
    "        elif steer ==7:\n",
    "            steer = 0.25\n",
    "        elif steer ==8:\n",
    "            steer = 0.9\n",
    "\n",
    "        # optional - print steer and throttle every 50 steps\n",
    "        if self.step_counter % 50 == 0:\n",
    "            print('steer input from model:',steer)\n",
    "\n",
    "        v = self.vehicle.get_velocity()\n",
    "        kmh = int(3.6 * math.sqrt(v.x**2 + v.y**2 + v.z**2))\n",
    "        estimated_throttle = self.maintain_speed(kmh)\n",
    "        # map throttle and apply steer and throttle\t\n",
    "        self.vehicle.apply_control(carla.VehicleControl(throttle=estimated_throttle, steer=steer, brake = 0.0))\n",
    "\n",
    "\n",
    "        distance_travelled = self.initial_location.distance(self.vehicle.get_location())\n",
    "\n",
    "        # storing camera to return at the end in case the clean-up function destroys it\n",
    "        cam = self.front_camera\n",
    "        # showing image\n",
    "        if self.SHOW_CAM:\n",
    "            cv2.imshow('Sem Camera', cam)\n",
    "            cv2.waitKey(1)\n",
    "\n",
    "        # track steering lock duration to prevent \"chasing its tail\"\n",
    "        lock_duration = 0\n",
    "        if self.steering_lock == False:\n",
    "            if steer<-0.6 or steer>0.6:\n",
    "                self.steering_lock = True\n",
    "                self.steering_lock_start = time.time()\n",
    "        else:\n",
    "            if steer<-0.6 or steer>0.6:\n",
    "                lock_duration = time.time() - self.steering_lock_start\n",
    "\n",
    "        # start defining reward from each step\n",
    "        reward = 0\n",
    "        done = False\n",
    "        #punish for collision\n",
    "        if len(self.collision_hist) != 0:\n",
    "            done = True\n",
    "            reward = reward - 300\n",
    "            self.cleanup()\n",
    "        if len(self.lane_invade_hist) != 0:\n",
    "            done = True\n",
    "            reward = reward - 300\n",
    "            self.cleanup()\n",
    "        # punish for steer lock up\n",
    "        if lock_duration>3:\n",
    "            reward = reward - 150\n",
    "            done = True\n",
    "            self.cleanup()\n",
    "        elif lock_duration > 1:\n",
    "            reward = reward - 20\n",
    "        #reward for acceleration\n",
    "        #if kmh < 10:\n",
    "        #   reward = reward - 3\n",
    "        #elif kmh <15:\n",
    "        #   reward = reward -1\n",
    "        #elif kmh>40:\n",
    "        #   reward = reward - 10 #punish for going to fast\n",
    "        #else:\n",
    "        #   reward = reward + 1\n",
    "        # reward for making distance\n",
    "        if distance_travelled<30:\n",
    "            reward = reward - 1\n",
    "        elif distance_travelled<50:\n",
    "            reward =  reward + 1\n",
    "        else:\n",
    "            reward = reward + 2\n",
    "        # check for episode duration\n",
    "        if self.episode_start + SECONDS_PER_EPISODE < time.time():\n",
    "            done = True\n",
    "            self.cleanup()\n",
    "        self.image_for_CNN = self.apply_cnn(self.front_camera[self.height_from:,self.width_from:self.width_to])\n",
    "\n",
    "        return self.image_for_CNN, reward, done, False, {}\n",
    "\n",
    "    def reset(self, seed=None, options=None):\n",
    "        self.collision_hist = []\n",
    "        self.lane_invade_hist = []\n",
    "        self.actor_list = []\n",
    "        self.transform = random.choice(self.world.get_map().get_spawn_points())\n",
    "\n",
    "        self.vehicle = None\n",
    "        while self.vehicle is None:\n",
    "            try:\n",
    "        # connect\n",
    "                self.vehicle = self.world.spawn_actor(self.model_3, self.transform)\n",
    "            except:\n",
    "                pass\n",
    "        self.actor_list.append(self.vehicle)\n",
    "\n",
    "\n",
    "\n",
    "        self.initial_location = self.vehicle.get_location()\n",
    "        self.sem_cam = self.blueprint_library.find('sensor.camera.semantic_segmentation')\n",
    "        self.sem_cam.set_attribute(\"image_size_x\", f\"{self.im_width}\")\n",
    "        self.sem_cam.set_attribute(\"image_size_y\", f\"{self.im_height}\")\n",
    "        self.sem_cam.set_attribute(\"fov\", f\"90\")\n",
    "\n",
    "        camera_init_trans = carla.Transform(carla.Location(z=self.CAMERA_POS_Z,x=self.CAMERA_POS_X))\n",
    "        self.sensor = self.world.spawn_actor(self.sem_cam, camera_init_trans, attach_to=self.vehicle)\n",
    "        self.actor_list.append(self.sensor)\n",
    "        self.sensor.listen(lambda data: self.process_img(data))\n",
    "\n",
    "        self.vehicle.apply_control(carla.VehicleControl(throttle=0.0, brake=0.0))\n",
    "        time.sleep(2)\n",
    "\n",
    "        # now apply random yaw so the RL does not guess to go straight\n",
    "        angle_adj = random.randrange(-SPIN, SPIN, 1)\n",
    "        trans = self.vehicle.get_transform()\n",
    "        trans.rotation.yaw = trans.rotation.yaw + angle_adj\n",
    "        self.vehicle.set_transform(trans)\n",
    "\n",
    "\n",
    "        colsensor = self.blueprint_library.find(\"sensor.other.collision\")\n",
    "        self.colsensor = self.world.spawn_actor(colsensor, camera_init_trans, attach_to=self.vehicle)\n",
    "        self.actor_list.append(self.colsensor)\n",
    "        self.colsensor.listen(lambda event: self.collision_data(event))\n",
    "\n",
    "        lanesensor = self.blueprint_library.find(\"sensor.other.lane_invasion\")\n",
    "        self.lanesensor = self.world.spawn_actor(lanesensor, camera_init_trans, attach_to=self.vehicle)\n",
    "        self.actor_list.append(self.lanesensor)\n",
    "        self.lanesensor.listen(lambda event: self.lane_data(event))\n",
    "\n",
    "        while self.front_camera is None:\n",
    "            time.sleep(0.01)\n",
    "\n",
    "        self.episode_start = time.time()\n",
    "        self.steering_lock = False\n",
    "        self.steering_lock_start = None # this is to count time in steering lock and start penalising for long time in steering lock\n",
    "        self.step_counter = 0\n",
    "        self.vehicle.apply_control(carla.VehicleControl(throttle=0.0, brake=0.0))\n",
    "        self.image_for_CNN = self.apply_cnn(self.front_camera[self.height_from:,self.width_from:self.width_to])\n",
    "        return self.image_for_CNN, {}\n",
    "\n",
    "    def process_img(self, image):\n",
    "        image.convert(carla.ColorConverter.CityScapesPalette)\n",
    "        i = np.array(image.raw_data)\n",
    "        i = i.reshape((self.im_height, self.im_width, 4))[:, :, :3] # this is to ignore the 4th Alpha channel - up to 3\n",
    "        self.front_camera = i\n",
    "\n",
    "    def collision_data(self, event):\n",
    "        self.collision_hist.append(event)\n",
    "    def lane_data(self, event):\n",
    "        self.lane_invade_hist.append(event)"
   ]
  },
  {
   "cell_type": "code",
   "execution_count": 4,
   "id": "2f3f979b",
   "metadata": {},
   "outputs": [
    {
     "name": "stdout",
     "output_type": "stream",
     "text": [
      "This is the start of training script\n",
      "setting folders for logs and models\n",
      "connecting to env..\n"
     ]
    },
    {
     "name": "stderr",
     "output_type": "stream",
     "text": [
      "2024-05-03 10:25:36.584727: I tensorflow/compiler/xla/stream_executor/cuda/cuda_gpu_executor.cc:981] successful NUMA node read from SysFS had negative value (-1), but there must be at least one NUMA node, so returning NUMA node zero\n",
      "2024-05-03 10:25:36.588924: I tensorflow/compiler/xla/stream_executor/cuda/cuda_gpu_executor.cc:981] successful NUMA node read from SysFS had negative value (-1), but there must be at least one NUMA node, so returning NUMA node zero\n",
      "2024-05-03 10:25:36.589026: I tensorflow/compiler/xla/stream_executor/cuda/cuda_gpu_executor.cc:981] successful NUMA node read from SysFS had negative value (-1), but there must be at least one NUMA node, so returning NUMA node zero\n",
      "2024-05-03 10:25:36.589268: I tensorflow/core/platform/cpu_feature_guard.cc:193] This TensorFlow binary is optimized with oneAPI Deep Neural Network Library (oneDNN) to use the following CPU instructions in performance-critical operations:  AVX2 AVX_VNNI FMA\n",
      "To enable them in other operations, rebuild TensorFlow with the appropriate compiler flags.\n",
      "2024-05-03 10:25:36.589960: I tensorflow/compiler/xla/stream_executor/cuda/cuda_gpu_executor.cc:981] successful NUMA node read from SysFS had negative value (-1), but there must be at least one NUMA node, so returning NUMA node zero\n",
      "2024-05-03 10:25:36.590031: I tensorflow/compiler/xla/stream_executor/cuda/cuda_gpu_executor.cc:981] successful NUMA node read from SysFS had negative value (-1), but there must be at least one NUMA node, so returning NUMA node zero\n",
      "2024-05-03 10:25:36.590072: I tensorflow/compiler/xla/stream_executor/cuda/cuda_gpu_executor.cc:981] successful NUMA node read from SysFS had negative value (-1), but there must be at least one NUMA node, so returning NUMA node zero\n",
      "2024-05-03 10:25:37.735384: I tensorflow/compiler/xla/stream_executor/cuda/cuda_gpu_executor.cc:981] successful NUMA node read from SysFS had negative value (-1), but there must be at least one NUMA node, so returning NUMA node zero\n",
      "2024-05-03 10:25:37.735470: I tensorflow/compiler/xla/stream_executor/cuda/cuda_gpu_executor.cc:981] successful NUMA node read from SysFS had negative value (-1), but there must be at least one NUMA node, so returning NUMA node zero\n",
      "2024-05-03 10:25:37.735518: I tensorflow/compiler/xla/stream_executor/cuda/cuda_gpu_executor.cc:981] successful NUMA node read from SysFS had negative value (-1), but there must be at least one NUMA node, so returning NUMA node zero\n",
      "2024-05-03 10:25:37.735564: I tensorflow/core/common_runtime/gpu/gpu_device.cc:1613] Created device /job:localhost/replica:0/task:0/device:GPU:0 with 2363 MB memory:  -> device: 0, name: NVIDIA GeForce RTX 4070 Ti, pci bus id: 0000:01:00.0, compute capability: 8.9\n",
      "2024-05-03 10:25:40.408785: I tensorflow/compiler/xla/stream_executor/cuda/cuda_dnn.cc:428] Loaded cuDNN version 8100\n",
      "2024-05-03 10:25:41.046238: I tensorflow/tsl/platform/default/subprocess.cc:304] Start cannot spawn child process: No such file or directory\n",
      "2024-05-03 10:25:41.599230: I tensorflow/compiler/xla/stream_executor/cuda/cuda_blas.cc:630] TensorFloat-32 will be used for the matrix multiplication. This will only be logged once.\n"
     ]
    },
    {
     "name": "stdout",
     "output_type": "stream",
     "text": [
      "Env has been reset as part of launch\n",
      "Using cuda device\n",
      "Wrapping the env with a `Monitor` wrapper\n",
      "Wrapping the env in a DummyVecEnv.\n",
      "Iteration  1  is to commence...\n"
     ]
    },
    {
     "name": "stderr",
     "output_type": "stream",
     "text": [
      "WARNING: sensor object went out of the scope but the sensor is still alive in the simulation: Actor 33 (sensor.camera.semantic_segmentation) \n"
     ]
    },
    {
     "name": "stdout",
     "output_type": "stream",
     "text": [
      "Logging to logs/1714721136/PPO_0\n"
     ]
    },
    {
     "name": "stderr",
     "output_type": "stream",
     "text": [
      "WARNING: sensor object went out of the scope but the sensor is still alive in the simulation: Actor 34 (sensor.other.collision) \n"
     ]
    },
    {
     "name": "stdout",
     "output_type": "stream",
     "text": [
      "steer input from model: 0.9\n",
      "steer input from model: 0.1\n",
      "steer input from model: 0.25\n"
     ]
    },
    {
     "name": "stderr",
     "output_type": "stream",
     "text": [
      "WARNING: sensor object went out of the scope but the sensor is still alive in the simulation: Actor 37 (sensor.camera.semantic_segmentation) \n",
      "WARNING: sensor object went out of the scope but the sensor is still alive in the simulation: Actor 38 (sensor.other.collision) \n"
     ]
    },
    {
     "name": "stdout",
     "output_type": "stream",
     "text": [
      "steer input from model: 0.1\n",
      "steer input from model: 0.1\n",
      "steer input from model: 0.0\n"
     ]
    },
    {
     "name": "stderr",
     "output_type": "stream",
     "text": [
      "WARNING: sensor object went out of the scope but the sensor is still alive in the simulation: Actor 41 (sensor.camera.semantic_segmentation) \n",
      "WARNING: sensor object went out of the scope but the sensor is still alive in the simulation: Actor 42 (sensor.other.collision) \n"
     ]
    },
    {
     "name": "stdout",
     "output_type": "stream",
     "text": [
      "steer input from model: 0.0\n",
      "steer input from model: -0.25\n",
      "steer input from model: 0.25\n"
     ]
    },
    {
     "name": "stderr",
     "output_type": "stream",
     "text": [
      "WARNING: sensor object went out of the scope but the sensor is still alive in the simulation: Actor 45 (sensor.camera.semantic_segmentation) \n",
      "WARNING: sensor object went out of the scope but the sensor is still alive in the simulation: Actor 46 (sensor.other.collision) \n"
     ]
    },
    {
     "name": "stdout",
     "output_type": "stream",
     "text": [
      "steer input from model: -0.25\n",
      "steer input from model: -0.1\n",
      "steer input from model: -0.25\n",
      "steer input from model: -0.1\n",
      "steer input from model: 0.25\n",
      "steer input from model: 0.05\n"
     ]
    },
    {
     "name": "stderr",
     "output_type": "stream",
     "text": [
      "WARNING: sensor object went out of the scope but the sensor is still alive in the simulation: Actor 49 (sensor.camera.semantic_segmentation) \n",
      "WARNING: sensor object went out of the scope but the sensor is still alive in the simulation: Actor 50 (sensor.other.collision) \n"
     ]
    },
    {
     "name": "stdout",
     "output_type": "stream",
     "text": [
      "steer input from model: -0.9\n",
      "steer input from model: 0.1\n"
     ]
    },
    {
     "name": "stderr",
     "output_type": "stream",
     "text": [
      "WARNING: sensor object went out of the scope but the sensor is still alive in the simulation: Actor 53 (sensor.camera.semantic_segmentation) \n",
      "WARNING: sensor object went out of the scope but the sensor is still alive in the simulation: Actor 54 (sensor.other.collision) \n"
     ]
    },
    {
     "name": "stdout",
     "output_type": "stream",
     "text": [
      "steer input from model: 0.25\n",
      "steer input from model: -0.9\n",
      "steer input from model: 0.0\n",
      "steer input from model: -0.25\n",
      "steer input from model: 0.25\n"
     ]
    },
    {
     "name": "stderr",
     "output_type": "stream",
     "text": [
      "WARNING: sensor object went out of the scope but the sensor is still alive in the simulation: Actor 57 (sensor.camera.semantic_segmentation) \n",
      "WARNING: sensor object went out of the scope but the sensor is still alive in the simulation: Actor 58 (sensor.other.collision) \n"
     ]
    },
    {
     "name": "stdout",
     "output_type": "stream",
     "text": [
      "steer input from model: -0.9\n",
      "steer input from model: -0.05\n",
      "steer input from model: -0.9\n"
     ]
    },
    {
     "name": "stderr",
     "output_type": "stream",
     "text": [
      "WARNING: sensor object went out of the scope but the sensor is still alive in the simulation: Actor 61 (sensor.camera.semantic_segmentation) \n",
      "WARNING: sensor object went out of the scope but the sensor is still alive in the simulation: Actor 62 (sensor.other.collision) \n"
     ]
    },
    {
     "name": "stdout",
     "output_type": "stream",
     "text": [
      "steer input from model: -0.05\n",
      "steer input from model: -0.05\n"
     ]
    },
    {
     "name": "stderr",
     "output_type": "stream",
     "text": [
      "WARNING: sensor object went out of the scope but the sensor is still alive in the simulation: Actor 65 (sensor.camera.semantic_segmentation) \n",
      "WARNING: sensor object went out of the scope but the sensor is still alive in the simulation: Actor 66 (sensor.other.collision) \n"
     ]
    },
    {
     "name": "stdout",
     "output_type": "stream",
     "text": [
      "steer input from model: 0.25\n",
      "steer input from model: 0.9\n",
      "steer input from model: 0.9\n",
      "steer input from model: -0.05\n",
      "steer input from model: -0.1\n",
      "steer input from model: -0.25\n",
      "steer input from model: 0.1\n"
     ]
    },
    {
     "name": "stderr",
     "output_type": "stream",
     "text": [
      "WARNING: sensor object went out of the scope but the sensor is still alive in the simulation: Actor 69 (sensor.camera.semantic_segmentation) \n",
      "WARNING: sensor object went out of the scope but the sensor is still alive in the simulation: Actor 70 (sensor.other.collision) \n"
     ]
    },
    {
     "name": "stdout",
     "output_type": "stream",
     "text": [
      "steer input from model: -0.1\n",
      "steer input from model: -0.1\n",
      "steer input from model: 0.25\n",
      "---------------------------------\n",
      "| rollout/           |          |\n",
      "|    ep_len_mean     | 207      |\n",
      "|    ep_rew_mean     | -231     |\n",
      "| time/              |          |\n",
      "|    fps             | 53       |\n",
      "|    iterations      | 1        |\n",
      "|    time_elapsed    | 38       |\n",
      "|    total_timesteps | 2048     |\n",
      "---------------------------------\n"
     ]
    },
    {
     "name": "stderr",
     "output_type": "stream",
     "text": [
      "WARNING: sensor object went out of the scope but the sensor is still alive in the simulation: Actor 73 (sensor.camera.semantic_segmentation) \n",
      "WARNING: sensor object went out of the scope but the sensor is still alive in the simulation: Actor 74 (sensor.other.collision) \n"
     ]
    },
    {
     "name": "stdout",
     "output_type": "stream",
     "text": [
      "steer input from model: 0.25\n",
      "steer input from model: 0.1\n",
      "steer input from model: 0.0\n",
      "steer input from model: -0.1\n",
      "steer input from model: 0.0\n",
      "steer input from model: 0.25\n",
      "steer input from model: 0.9\n"
     ]
    },
    {
     "name": "stderr",
     "output_type": "stream",
     "text": [
      "WARNING: sensor object went out of the scope but the sensor is still alive in the simulation: Actor 77 (sensor.camera.semantic_segmentation) \n",
      "WARNING: sensor object went out of the scope but the sensor is still alive in the simulation: Actor 78 (sensor.other.collision) \n"
     ]
    },
    {
     "name": "stdout",
     "output_type": "stream",
     "text": [
      "steer input from model: 0.0\n",
      "steer input from model: -0.1\n",
      "steer input from model: 0.05\n"
     ]
    },
    {
     "name": "stderr",
     "output_type": "stream",
     "text": [
      "WARNING: sensor object went out of the scope but the sensor is still alive in the simulation: Actor 81 (sensor.camera.semantic_segmentation) \n",
      "WARNING: sensor object went out of the scope but the sensor is still alive in the simulation: Actor 82 (sensor.other.collision) \n"
     ]
    },
    {
     "name": "stdout",
     "output_type": "stream",
     "text": [
      "steer input from model: -0.05\n",
      "steer input from model: 0.9\n",
      "steer input from model: 0.1\n",
      "steer input from model: 0.9\n",
      "steer input from model: -0.05\n",
      "steer input from model: 0.05\n"
     ]
    },
    {
     "name": "stderr",
     "output_type": "stream",
     "text": [
      "WARNING: sensor object went out of the scope but the sensor is still alive in the simulation: Actor 85 (sensor.camera.semantic_segmentation) \n",
      "WARNING: sensor object went out of the scope but the sensor is still alive in the simulation: Actor 86 (sensor.other.collision) \n"
     ]
    },
    {
     "name": "stdout",
     "output_type": "stream",
     "text": [
      "steer input from model: -0.25\n",
      "steer input from model: -0.05\n",
      "steer input from model: 0.1\n",
      "steer input from model: 0.05\n",
      "steer input from model: -0.25\n",
      "steer input from model: 0.0\n"
     ]
    },
    {
     "name": "stderr",
     "output_type": "stream",
     "text": [
      "WARNING: sensor object went out of the scope but the sensor is still alive in the simulation: Actor 89 (sensor.camera.semantic_segmentation) \n",
      "WARNING: sensor object went out of the scope but the sensor is still alive in the simulation: Actor 90 (sensor.other.collision) \n"
     ]
    },
    {
     "name": "stdout",
     "output_type": "stream",
     "text": [
      "steer input from model: 0.9\n",
      "steer input from model: 0.05\n",
      "steer input from model: -0.05\n"
     ]
    },
    {
     "name": "stderr",
     "output_type": "stream",
     "text": [
      "WARNING: sensor object went out of the scope but the sensor is still alive in the simulation: Actor 93 (sensor.camera.semantic_segmentation) \n"
     ]
    },
    {
     "ename": "KeyboardInterrupt",
     "evalue": "",
     "output_type": "error",
     "traceback": [
      "\u001b[0;31m---------------------------------------------------------------------------\u001b[0m",
      "\u001b[0;31mKeyboardInterrupt\u001b[0m                         Traceback (most recent call last)",
      "Cell \u001b[0;32mIn[4], line 31\u001b[0m\n\u001b[1;32m     29\u001b[0m iters \u001b[38;5;241m+\u001b[39m\u001b[38;5;241m=\u001b[39m \u001b[38;5;241m1\u001b[39m\n\u001b[1;32m     30\u001b[0m \u001b[38;5;28mprint\u001b[39m(\u001b[38;5;124m'\u001b[39m\u001b[38;5;124mIteration \u001b[39m\u001b[38;5;124m'\u001b[39m, iters,\u001b[38;5;124m'\u001b[39m\u001b[38;5;124m is to commence...\u001b[39m\u001b[38;5;124m'\u001b[39m)\n\u001b[0;32m---> 31\u001b[0m \u001b[43mmodel\u001b[49m\u001b[38;5;241;43m.\u001b[39;49m\u001b[43mlearn\u001b[49m\u001b[43m(\u001b[49m\u001b[43mtotal_timesteps\u001b[49m\u001b[38;5;241;43m=\u001b[39;49m\u001b[43mTIMESTEPS\u001b[49m\u001b[43m,\u001b[49m\u001b[43m \u001b[49m\u001b[43mreset_num_timesteps\u001b[49m\u001b[38;5;241;43m=\u001b[39;49m\u001b[38;5;28;43;01mFalse\u001b[39;49;00m\u001b[43m,\u001b[49m\u001b[43m \u001b[49m\u001b[43mtb_log_name\u001b[49m\u001b[38;5;241;43m=\u001b[39;49m\u001b[38;5;124;43mf\u001b[39;49m\u001b[38;5;124;43m\"\u001b[39;49m\u001b[38;5;124;43mPPO\u001b[39;49m\u001b[38;5;124;43m\"\u001b[39;49m\u001b[43m \u001b[49m\u001b[43m)\u001b[49m\n\u001b[1;32m     32\u001b[0m \u001b[38;5;28mprint\u001b[39m(\u001b[38;5;124m'\u001b[39m\u001b[38;5;124mIteration \u001b[39m\u001b[38;5;124m'\u001b[39m, iters,\u001b[38;5;124m'\u001b[39m\u001b[38;5;124m has been trained\u001b[39m\u001b[38;5;124m'\u001b[39m)\n\u001b[1;32m     33\u001b[0m model\u001b[38;5;241m.\u001b[39msave(\u001b[38;5;124mf\u001b[39m\u001b[38;5;124m\"\u001b[39m\u001b[38;5;132;01m{\u001b[39;00mmodels_dir\u001b[38;5;132;01m}\u001b[39;00m\u001b[38;5;124m/\u001b[39m\u001b[38;5;132;01m{\u001b[39;00mTIMESTEPS\u001b[38;5;241m*\u001b[39miters\u001b[38;5;132;01m}\u001b[39;00m\u001b[38;5;124m\"\u001b[39m)\n",
      "File \u001b[0;32m~/anaconda3/envs/Tensor/lib/python3.9/site-packages/stable_baselines3/ppo/ppo.py:315\u001b[0m, in \u001b[0;36mPPO.learn\u001b[0;34m(self, total_timesteps, callback, log_interval, tb_log_name, reset_num_timesteps, progress_bar)\u001b[0m\n\u001b[1;32m    306\u001b[0m \u001b[38;5;28;01mdef\u001b[39;00m \u001b[38;5;21mlearn\u001b[39m(\n\u001b[1;32m    307\u001b[0m     \u001b[38;5;28mself\u001b[39m: SelfPPO,\n\u001b[1;32m    308\u001b[0m     total_timesteps: \u001b[38;5;28mint\u001b[39m,\n\u001b[0;32m   (...)\u001b[0m\n\u001b[1;32m    313\u001b[0m     progress_bar: \u001b[38;5;28mbool\u001b[39m \u001b[38;5;241m=\u001b[39m \u001b[38;5;28;01mFalse\u001b[39;00m,\n\u001b[1;32m    314\u001b[0m ) \u001b[38;5;241m-\u001b[39m\u001b[38;5;241m>\u001b[39m SelfPPO:\n\u001b[0;32m--> 315\u001b[0m     \u001b[38;5;28;01mreturn\u001b[39;00m \u001b[38;5;28;43msuper\u001b[39;49m\u001b[43m(\u001b[49m\u001b[43m)\u001b[49m\u001b[38;5;241;43m.\u001b[39;49m\u001b[43mlearn\u001b[49m\u001b[43m(\u001b[49m\n\u001b[1;32m    316\u001b[0m \u001b[43m        \u001b[49m\u001b[43mtotal_timesteps\u001b[49m\u001b[38;5;241;43m=\u001b[39;49m\u001b[43mtotal_timesteps\u001b[49m\u001b[43m,\u001b[49m\n\u001b[1;32m    317\u001b[0m \u001b[43m        \u001b[49m\u001b[43mcallback\u001b[49m\u001b[38;5;241;43m=\u001b[39;49m\u001b[43mcallback\u001b[49m\u001b[43m,\u001b[49m\n\u001b[1;32m    318\u001b[0m \u001b[43m        \u001b[49m\u001b[43mlog_interval\u001b[49m\u001b[38;5;241;43m=\u001b[39;49m\u001b[43mlog_interval\u001b[49m\u001b[43m,\u001b[49m\n\u001b[1;32m    319\u001b[0m \u001b[43m        \u001b[49m\u001b[43mtb_log_name\u001b[49m\u001b[38;5;241;43m=\u001b[39;49m\u001b[43mtb_log_name\u001b[49m\u001b[43m,\u001b[49m\n\u001b[1;32m    320\u001b[0m \u001b[43m        \u001b[49m\u001b[43mreset_num_timesteps\u001b[49m\u001b[38;5;241;43m=\u001b[39;49m\u001b[43mreset_num_timesteps\u001b[49m\u001b[43m,\u001b[49m\n\u001b[1;32m    321\u001b[0m \u001b[43m        \u001b[49m\u001b[43mprogress_bar\u001b[49m\u001b[38;5;241;43m=\u001b[39;49m\u001b[43mprogress_bar\u001b[49m\u001b[43m,\u001b[49m\n\u001b[1;32m    322\u001b[0m \u001b[43m    \u001b[49m\u001b[43m)\u001b[49m\n",
      "File \u001b[0;32m~/anaconda3/envs/Tensor/lib/python3.9/site-packages/stable_baselines3/common/on_policy_algorithm.py:300\u001b[0m, in \u001b[0;36mOnPolicyAlgorithm.learn\u001b[0;34m(self, total_timesteps, callback, log_interval, tb_log_name, reset_num_timesteps, progress_bar)\u001b[0m\n\u001b[1;32m    297\u001b[0m \u001b[38;5;28;01massert\u001b[39;00m \u001b[38;5;28mself\u001b[39m\u001b[38;5;241m.\u001b[39menv \u001b[38;5;129;01mis\u001b[39;00m \u001b[38;5;129;01mnot\u001b[39;00m \u001b[38;5;28;01mNone\u001b[39;00m\n\u001b[1;32m    299\u001b[0m \u001b[38;5;28;01mwhile\u001b[39;00m \u001b[38;5;28mself\u001b[39m\u001b[38;5;241m.\u001b[39mnum_timesteps \u001b[38;5;241m<\u001b[39m total_timesteps:\n\u001b[0;32m--> 300\u001b[0m     continue_training \u001b[38;5;241m=\u001b[39m \u001b[38;5;28;43mself\u001b[39;49m\u001b[38;5;241;43m.\u001b[39;49m\u001b[43mcollect_rollouts\u001b[49m\u001b[43m(\u001b[49m\u001b[38;5;28;43mself\u001b[39;49m\u001b[38;5;241;43m.\u001b[39;49m\u001b[43menv\u001b[49m\u001b[43m,\u001b[49m\u001b[43m \u001b[49m\u001b[43mcallback\u001b[49m\u001b[43m,\u001b[49m\u001b[43m \u001b[49m\u001b[38;5;28;43mself\u001b[39;49m\u001b[38;5;241;43m.\u001b[39;49m\u001b[43mrollout_buffer\u001b[49m\u001b[43m,\u001b[49m\u001b[43m \u001b[49m\u001b[43mn_rollout_steps\u001b[49m\u001b[38;5;241;43m=\u001b[39;49m\u001b[38;5;28;43mself\u001b[39;49m\u001b[38;5;241;43m.\u001b[39;49m\u001b[43mn_steps\u001b[49m\u001b[43m)\u001b[49m\n\u001b[1;32m    302\u001b[0m     \u001b[38;5;28;01mif\u001b[39;00m \u001b[38;5;129;01mnot\u001b[39;00m continue_training:\n\u001b[1;32m    303\u001b[0m         \u001b[38;5;28;01mbreak\u001b[39;00m\n",
      "File \u001b[0;32m~/anaconda3/envs/Tensor/lib/python3.9/site-packages/stable_baselines3/common/on_policy_algorithm.py:195\u001b[0m, in \u001b[0;36mOnPolicyAlgorithm.collect_rollouts\u001b[0;34m(self, env, callback, rollout_buffer, n_rollout_steps)\u001b[0m\n\u001b[1;32m    190\u001b[0m     \u001b[38;5;28;01melse\u001b[39;00m:\n\u001b[1;32m    191\u001b[0m         \u001b[38;5;66;03m# Otherwise, clip the actions to avoid out of bound error\u001b[39;00m\n\u001b[1;32m    192\u001b[0m         \u001b[38;5;66;03m# as we are sampling from an unbounded Gaussian distribution\u001b[39;00m\n\u001b[1;32m    193\u001b[0m         clipped_actions \u001b[38;5;241m=\u001b[39m np\u001b[38;5;241m.\u001b[39mclip(actions, \u001b[38;5;28mself\u001b[39m\u001b[38;5;241m.\u001b[39maction_space\u001b[38;5;241m.\u001b[39mlow, \u001b[38;5;28mself\u001b[39m\u001b[38;5;241m.\u001b[39maction_space\u001b[38;5;241m.\u001b[39mhigh)\n\u001b[0;32m--> 195\u001b[0m new_obs, rewards, dones, infos \u001b[38;5;241m=\u001b[39m \u001b[43menv\u001b[49m\u001b[38;5;241;43m.\u001b[39;49m\u001b[43mstep\u001b[49m\u001b[43m(\u001b[49m\u001b[43mclipped_actions\u001b[49m\u001b[43m)\u001b[49m\n\u001b[1;32m    197\u001b[0m \u001b[38;5;28mself\u001b[39m\u001b[38;5;241m.\u001b[39mnum_timesteps \u001b[38;5;241m+\u001b[39m\u001b[38;5;241m=\u001b[39m env\u001b[38;5;241m.\u001b[39mnum_envs\n\u001b[1;32m    199\u001b[0m \u001b[38;5;66;03m# Give access to local variables\u001b[39;00m\n",
      "File \u001b[0;32m~/anaconda3/envs/Tensor/lib/python3.9/site-packages/stable_baselines3/common/vec_env/base_vec_env.py:206\u001b[0m, in \u001b[0;36mVecEnv.step\u001b[0;34m(self, actions)\u001b[0m\n\u001b[1;32m    199\u001b[0m \u001b[38;5;250m\u001b[39m\u001b[38;5;124;03m\"\"\"\u001b[39;00m\n\u001b[1;32m    200\u001b[0m \u001b[38;5;124;03mStep the environments with the given action\u001b[39;00m\n\u001b[1;32m    201\u001b[0m \n\u001b[1;32m    202\u001b[0m \u001b[38;5;124;03m:param actions: the action\u001b[39;00m\n\u001b[1;32m    203\u001b[0m \u001b[38;5;124;03m:return: observation, reward, done, information\u001b[39;00m\n\u001b[1;32m    204\u001b[0m \u001b[38;5;124;03m\"\"\"\u001b[39;00m\n\u001b[1;32m    205\u001b[0m \u001b[38;5;28mself\u001b[39m\u001b[38;5;241m.\u001b[39mstep_async(actions)\n\u001b[0;32m--> 206\u001b[0m \u001b[38;5;28;01mreturn\u001b[39;00m \u001b[38;5;28;43mself\u001b[39;49m\u001b[38;5;241;43m.\u001b[39;49m\u001b[43mstep_wait\u001b[49m\u001b[43m(\u001b[49m\u001b[43m)\u001b[49m\n",
      "File \u001b[0;32m~/anaconda3/envs/Tensor/lib/python3.9/site-packages/stable_baselines3/common/vec_env/dummy_vec_env.py:70\u001b[0m, in \u001b[0;36mDummyVecEnv.step_wait\u001b[0;34m(self)\u001b[0m\n\u001b[1;32m     67\u001b[0m     \u001b[38;5;28;01mif\u001b[39;00m \u001b[38;5;28mself\u001b[39m\u001b[38;5;241m.\u001b[39mbuf_dones[env_idx]:\n\u001b[1;32m     68\u001b[0m         \u001b[38;5;66;03m# save final observation where user can get it, then reset\u001b[39;00m\n\u001b[1;32m     69\u001b[0m         \u001b[38;5;28mself\u001b[39m\u001b[38;5;241m.\u001b[39mbuf_infos[env_idx][\u001b[38;5;124m\"\u001b[39m\u001b[38;5;124mterminal_observation\u001b[39m\u001b[38;5;124m\"\u001b[39m] \u001b[38;5;241m=\u001b[39m obs\n\u001b[0;32m---> 70\u001b[0m         obs, \u001b[38;5;28mself\u001b[39m\u001b[38;5;241m.\u001b[39mreset_infos[env_idx] \u001b[38;5;241m=\u001b[39m \u001b[38;5;28;43mself\u001b[39;49m\u001b[38;5;241;43m.\u001b[39;49m\u001b[43menvs\u001b[49m\u001b[43m[\u001b[49m\u001b[43menv_idx\u001b[49m\u001b[43m]\u001b[49m\u001b[38;5;241;43m.\u001b[39;49m\u001b[43mreset\u001b[49m\u001b[43m(\u001b[49m\u001b[43m)\u001b[49m\n\u001b[1;32m     71\u001b[0m     \u001b[38;5;28mself\u001b[39m\u001b[38;5;241m.\u001b[39m_save_obs(env_idx, obs)\n\u001b[1;32m     72\u001b[0m \u001b[38;5;28;01mreturn\u001b[39;00m (\u001b[38;5;28mself\u001b[39m\u001b[38;5;241m.\u001b[39m_obs_from_buf(), np\u001b[38;5;241m.\u001b[39mcopy(\u001b[38;5;28mself\u001b[39m\u001b[38;5;241m.\u001b[39mbuf_rews), np\u001b[38;5;241m.\u001b[39mcopy(\u001b[38;5;28mself\u001b[39m\u001b[38;5;241m.\u001b[39mbuf_dones), deepcopy(\u001b[38;5;28mself\u001b[39m\u001b[38;5;241m.\u001b[39mbuf_infos))\n",
      "File \u001b[0;32m~/anaconda3/envs/Tensor/lib/python3.9/site-packages/stable_baselines3/common/monitor.py:83\u001b[0m, in \u001b[0;36mMonitor.reset\u001b[0;34m(self, **kwargs)\u001b[0m\n\u001b[1;32m     81\u001b[0m         \u001b[38;5;28;01mraise\u001b[39;00m \u001b[38;5;167;01mValueError\u001b[39;00m(\u001b[38;5;124mf\u001b[39m\u001b[38;5;124m\"\u001b[39m\u001b[38;5;124mExpected you to pass keyword argument \u001b[39m\u001b[38;5;132;01m{\u001b[39;00mkey\u001b[38;5;132;01m}\u001b[39;00m\u001b[38;5;124m into reset\u001b[39m\u001b[38;5;124m\"\u001b[39m)\n\u001b[1;32m     82\u001b[0m     \u001b[38;5;28mself\u001b[39m\u001b[38;5;241m.\u001b[39mcurrent_reset_info[key] \u001b[38;5;241m=\u001b[39m value\n\u001b[0;32m---> 83\u001b[0m \u001b[38;5;28;01mreturn\u001b[39;00m \u001b[38;5;28;43mself\u001b[39;49m\u001b[38;5;241;43m.\u001b[39;49m\u001b[43menv\u001b[49m\u001b[38;5;241;43m.\u001b[39;49m\u001b[43mreset\u001b[49m\u001b[43m(\u001b[49m\u001b[38;5;241;43m*\u001b[39;49m\u001b[38;5;241;43m*\u001b[39;49m\u001b[43mkwargs\u001b[49m\u001b[43m)\u001b[49m\n",
      "Cell \u001b[0;32mIn[3], line 204\u001b[0m, in \u001b[0;36mCarEnv.reset\u001b[0;34m(self, seed, options)\u001b[0m\n\u001b[1;32m    201\u001b[0m \u001b[38;5;28mself\u001b[39m\u001b[38;5;241m.\u001b[39msensor\u001b[38;5;241m.\u001b[39mlisten(\u001b[38;5;28;01mlambda\u001b[39;00m data: \u001b[38;5;28mself\u001b[39m\u001b[38;5;241m.\u001b[39mprocess_img(data))\n\u001b[1;32m    203\u001b[0m \u001b[38;5;28mself\u001b[39m\u001b[38;5;241m.\u001b[39mvehicle\u001b[38;5;241m.\u001b[39mapply_control(carla\u001b[38;5;241m.\u001b[39mVehicleControl(throttle\u001b[38;5;241m=\u001b[39m\u001b[38;5;241m0.0\u001b[39m, brake\u001b[38;5;241m=\u001b[39m\u001b[38;5;241m0.0\u001b[39m))\n\u001b[0;32m--> 204\u001b[0m \u001b[43mtime\u001b[49m\u001b[38;5;241;43m.\u001b[39;49m\u001b[43msleep\u001b[49m\u001b[43m(\u001b[49m\u001b[38;5;241;43m2\u001b[39;49m\u001b[43m)\u001b[49m\n\u001b[1;32m    206\u001b[0m \u001b[38;5;66;03m# now apply random yaw so the RL does not guess to go straight\u001b[39;00m\n\u001b[1;32m    207\u001b[0m angle_adj \u001b[38;5;241m=\u001b[39m random\u001b[38;5;241m.\u001b[39mrandrange(\u001b[38;5;241m-\u001b[39mSPIN, SPIN, \u001b[38;5;241m1\u001b[39m)\n",
      "\u001b[0;31mKeyboardInterrupt\u001b[0m: "
     ]
    }
   ],
   "source": [
    "from stable_baselines3 import PPO #PPO\n",
    "import os\n",
    "import time\n",
    "\n",
    "\n",
    "print('This is the start of training script')\n",
    "\n",
    "print('setting folders for logs and models')\n",
    "models_dir = f\"models/{int(time.time())}/\"\n",
    "logdir = f\"logs/{int(time.time())}/\"\n",
    "\n",
    "if not os.path.exists(models_dir):\n",
    "    os.makedirs(models_dir)\n",
    "\n",
    "if not os.path.exists(logdir):\n",
    "    os.makedirs(logdir)\n",
    "\n",
    "print('connecting to env..')\n",
    "\n",
    "env = CarEnv()\n",
    "\n",
    "env.reset()\n",
    "print('Env has been reset as part of launch')\n",
    "model = PPO('MlpPolicy', env, verbose=1,learning_rate=0.001, tensorboard_log=logdir)\n",
    "\n",
    "TIMESTEPS = 500_000 # how long is each training iteration - individual steps\n",
    "iters = 0\n",
    "while iters<4:  # how many training iterations you want\n",
    "    iters += 1\n",
    "    print('Iteration ', iters,' is to commence...')\n",
    "    model.learn(total_timesteps=TIMESTEPS, reset_num_timesteps=False, tb_log_name=f\"PPO\" )\n",
    "    print('Iteration ', iters,' has been trained')\n",
    "    model.save(f\"{models_dir}/{TIMESTEPS*iters}\")"
   ]
  },
  {
   "cell_type": "code",
   "execution_count": null,
   "id": "92bb8408",
   "metadata": {},
   "outputs": [],
   "source": []
  }
 ],
 "metadata": {
  "kernelspec": {
   "display_name": "Tensor",
   "language": "python",
   "name": "tensor"
  },
  "language_info": {
   "codemirror_mode": {
    "name": "ipython",
    "version": 3
   },
   "file_extension": ".py",
   "mimetype": "text/x-python",
   "name": "python",
   "nbconvert_exporter": "python",
   "pygments_lexer": "ipython3",
   "version": "3.9.19"
  }
 },
 "nbformat": 4,
 "nbformat_minor": 5
}
